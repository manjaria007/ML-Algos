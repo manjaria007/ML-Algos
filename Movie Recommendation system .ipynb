{
 "cells": [
  {
   "cell_type": "code",
   "execution_count": 3,
   "metadata": {},
   "outputs": [
    {
     "name": "stderr",
     "output_type": "stream",
     "text": [
      "C:\\Users\\mohit\\Anaconda3\\lib\\site-packages\\lightfm\\_lightfm_fast.py:9: UserWarning: LightFM was compiled without OpenMP support. Only a single thread will be used.\n",
      "  warnings.warn('LightFM was compiled without OpenMP support. '\n"
     ]
    }
   ],
   "source": [
    "import numpy as np\n",
    "from lightfm import LightFM\n",
    "from lightfm.datasets import fetch_movielens"
   ]
  },
  {
   "cell_type": "markdown",
   "metadata": {},
   "source": [
    "Fetch data from model"
   ]
  },
  {
   "cell_type": "code",
   "execution_count": 6,
   "metadata": {},
   "outputs": [],
   "source": [
    "df = fetch_movielens(min_rating = 4.0)"
   ]
  },
  {
   "cell_type": "markdown",
   "metadata": {},
   "source": [
    "Training and Testing Data"
   ]
  },
  {
   "cell_type": "code",
   "execution_count": 8,
   "metadata": {},
   "outputs": [
    {
     "name": "stdout",
     "output_type": "stream",
     "text": [
      "<943x1682 sparse matrix of type '<class 'numpy.int32'>'\n",
      "\twith 49906 stored elements in COOrdinate format>\n",
      "<943x1682 sparse matrix of type '<class 'numpy.int32'>'\n",
      "\twith 5469 stored elements in COOrdinate format>\n"
     ]
    }
   ],
   "source": [
    "print(repr(df['train']))\n",
    "print(repr(df['test']))"
   ]
  },
  {
   "cell_type": "markdown",
   "metadata": {},
   "source": [
    "Create Model"
   ]
  },
  {
   "cell_type": "code",
   "execution_count": 9,
   "metadata": {},
   "outputs": [],
   "source": [
    "movies = LightFM(loss='warp')"
   ]
  },
  {
   "cell_type": "markdown",
   "metadata": {},
   "source": [
    "Train model"
   ]
  },
  {
   "cell_type": "code",
   "execution_count": 10,
   "metadata": {},
   "outputs": [
    {
     "data": {
      "text/plain": [
       "<lightfm.lightfm.LightFM at 0x2a5714901d0>"
      ]
     },
     "execution_count": 10,
     "metadata": {},
     "output_type": "execute_result"
    }
   ],
   "source": [
    "movies.fit(df['train'], epochs = 30, num_threads=2)"
   ]
  },
  {
   "cell_type": "markdown",
   "metadata": {},
   "source": [
    "Recommender function"
   ]
  },
  {
   "cell_type": "code",
   "execution_count": 20,
   "metadata": {},
   "outputs": [
    {
     "name": "stdout",
     "output_type": "stream",
     "text": [
      "User 3\n",
      " Known positives:\n",
      "  Seven (Se7en) (1995)\n",
      "  Contact (1997)\n",
      "  Starship Troopers (1997)\n",
      " Recommended:\n",
      "  L.A. Confidential (1997)\n",
      "  Titanic (1997)\n",
      "  Contact (1997)\n",
      "User 25\n",
      " Known positives:\n",
      "  Dead Man Walking (1995)\n",
      "  Star Wars (1977)\n",
      "  Fargo (1996)\n",
      " Recommended:\n",
      "  English Patient, The (1996)\n",
      "  Contact (1997)\n",
      "  Fargo (1996)\n",
      "User 451\n",
      " Known positives:\n",
      "  Twelve Monkeys (1995)\n",
      "  Babe (1995)\n",
      "  Mr. Holland's Opus (1995)\n",
      " Recommended:\n",
      "  Raiders of the Lost Ark (1981)\n",
      "  Star Wars (1977)\n",
      "  Casablanca (1942)\n"
     ]
    }
   ],
   "source": [
    "def sample_recommender(movies, df, user_ids):\n",
    "    #number of users and movies in training data\n",
    "    n_users, n_items = df['train'].shape\n",
    "    for user_id in user_ids:\n",
    "        #movies they already like\n",
    "        known_positives = df['item_labels'][df['train'].tocsr()[user_id].indices]\n",
    "        \n",
    "        #movies our model predicts they will like\n",
    "        scores = movies.predict(user_id, np.arange(n_items))\n",
    "        #sort them in order of most liked to least\n",
    "        top_items = df['item_labels'][np.argsort(-scores)]\n",
    "        #Print out the results\n",
    "        print(\"User %s\" % user_id)\n",
    "        print(\" Known positives:\")\n",
    "        \n",
    "        for x in known_positives[:3]:\n",
    "            print(\"  %s\" %x)\n",
    "            \n",
    "        print(\" Recommended:\")\n",
    "        \n",
    "        for x in top_items[:3]:\n",
    "            print(\"  %s\" %x)\n",
    "            \n",
    "\n",
    "sample_recommender(movies, df, [3, 25, 451])"
   ]
  },
  {
   "cell_type": "markdown",
   "metadata": {},
   "source": [
    "These are the users movie recommendation results!"
   ]
  }
 ],
 "metadata": {
  "kernelspec": {
   "display_name": "Python 3",
   "language": "python",
   "name": "python3"
  },
  "language_info": {
   "codemirror_mode": {
    "name": "ipython",
    "version": 3
   },
   "file_extension": ".py",
   "mimetype": "text/x-python",
   "name": "python",
   "nbconvert_exporter": "python",
   "pygments_lexer": "ipython3",
   "version": "3.6.9"
  }
 },
 "nbformat": 4,
 "nbformat_minor": 2
}
